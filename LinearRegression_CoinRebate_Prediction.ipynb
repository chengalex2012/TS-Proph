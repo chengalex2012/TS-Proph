{
 "cells": [
  {
   "cell_type": "code",
   "execution_count": 11,
   "id": "cd32377b",
   "metadata": {},
   "outputs": [],
   "source": [
    "import pandas as pd\n",
    "import numpy as np\n",
    "import matplotlib.pyplot as plt\n",
    "import pandasql as ps\n",
    "from sklearn import datasets, linear_model, model_selection, metrics\n",
    "from sklearn.metrics import mean_squared_error, r2_score\n",
    "import seaborn as sns\n",
    "import random"
   ]
  },
  {
   "cell_type": "code",
   "execution_count": null,
   "id": "e047661e",
   "metadata": {},
   "outputs": [],
   "source": [
    "# Global Variable\n",
    "pd.set_option('display.max_rows', None)\n",
    "pd.set_option('display.max_columns', None)"
   ]
  },
  {
   "cell_type": "code",
   "execution_count": 2,
   "id": "07c9ebfa",
   "metadata": {},
   "outputs": [],
   "source": [
    "raw_data = pd.read_csv('LinearRegression_Raw.csv')"
   ]
  },
  {
   "cell_type": "code",
   "execution_count": null,
   "id": "2a02f6de",
   "metadata": {},
   "outputs": [],
   "source": [
    "raw_data.head(10)"
   ]
  },
  {
   "cell_type": "code",
   "execution_count": null,
   "id": "a58e2e33",
   "metadata": {},
   "outputs": [],
   "source": [
    "raw_data.columns"
   ]
  },
  {
   "cell_type": "code",
   "execution_count": 3,
   "id": "af801d4e",
   "metadata": {},
   "outputs": [],
   "source": [
    "Renamed_Data = raw_data[['grass_date',\n",
    "                      'traffic_a1',\n",
    "                      'traffic_a1_new',\n",
    "                      'traffic_a1_existing_new',\n",
    "                      'traffic_a1_repeat',\n",
    "                      'a1_new_orders',\n",
    "                      'a1_existing_new_orders',\n",
    "                      'a1_repeat_orders',\n",
    "                      'gmv_usd',\n",
    "                      'net_shopee_coin_rebate_usd',\n",
    "                      'nmv_usd',\n",
    "                      'net_orders']]"
   ]
  },
  {
   "cell_type": "code",
   "execution_count": 6,
   "id": "f5064030",
   "metadata": {},
   "outputs": [],
   "source": [
    "Agg_Data = ps.sqldf(\"SELECT grass_date, sum(traffic_a1) as 'traffic_a1', sum(traffic_a1_new) as 'traffic_a1_new', sum(traffic_a1_existing_new) as 'traffic_a1_existing_new', sum(traffic_a1_repeat) as 'traffic_a1_repeat', sum(a1_new_orders) as 'a1_new_orders', sum(a1_existing_new_orders) as 'a1_existing_new_orders', sum(a1_repeat_orders) as 'a1_repeat_orders', sum(gmv_usd) as 'gmv_usd', sum(nmv_usd) as 'nmv_usd', sum(net_orders) as 'net_orders', sum(net_shopee_coin_rebate_usd) as 'net_shopee_coin_rebate_usd' FROM Renamed_Data GROUP BY grass_date having sum(net_shopee_coin_rebate_usd)>100\")"
   ]
  },
  {
   "cell_type": "code",
   "execution_count": 7,
   "id": "3a4e98da",
   "metadata": {},
   "outputs": [],
   "source": [
    "Agg_Data['grass_date'] = pd.to_datetime(Agg_Data['grass_date'], format = '%m/%d/%Y')"
   ]
  },
  {
   "cell_type": "code",
   "execution_count": 8,
   "id": "0ecee93f",
   "metadata": {},
   "outputs": [],
   "source": [
    "Filtered_Data = Agg_Data[Agg_Data['grass_date']>'2022-01-23']"
   ]
  },
  {
   "cell_type": "code",
   "execution_count": 9,
   "id": "723dd748",
   "metadata": {},
   "outputs": [
    {
     "data": {
      "text/html": [
       "<div>\n",
       "<style scoped>\n",
       "    .dataframe tbody tr th:only-of-type {\n",
       "        vertical-align: middle;\n",
       "    }\n",
       "\n",
       "    .dataframe tbody tr th {\n",
       "        vertical-align: top;\n",
       "    }\n",
       "\n",
       "    .dataframe thead th {\n",
       "        text-align: right;\n",
       "    }\n",
       "</style>\n",
       "<table border=\"1\" class=\"dataframe\">\n",
       "  <thead>\n",
       "    <tr style=\"text-align: right;\">\n",
       "      <th></th>\n",
       "      <th>grass_date</th>\n",
       "      <th>traffic_a1</th>\n",
       "      <th>traffic_a1_new</th>\n",
       "      <th>traffic_a1_existing_new</th>\n",
       "      <th>traffic_a1_repeat</th>\n",
       "      <th>a1_new_orders</th>\n",
       "      <th>a1_existing_new_orders</th>\n",
       "      <th>a1_repeat_orders</th>\n",
       "      <th>gmv_usd</th>\n",
       "      <th>nmv_usd</th>\n",
       "      <th>net_orders</th>\n",
       "      <th>net_shopee_coin_rebate_usd</th>\n",
       "    </tr>\n",
       "  </thead>\n",
       "  <tbody>\n",
       "    <tr>\n",
       "      <th>0</th>\n",
       "      <td>2022-01-24</td>\n",
       "      <td>200163</td>\n",
       "      <td>12213</td>\n",
       "      <td>56254</td>\n",
       "      <td>131696</td>\n",
       "      <td>3539</td>\n",
       "      <td>4645.0</td>\n",
       "      <td>19090</td>\n",
       "      <td>115676.6260</td>\n",
       "      <td>51027.01320</td>\n",
       "      <td>14147</td>\n",
       "      <td>442.08</td>\n",
       "    </tr>\n",
       "    <tr>\n",
       "      <th>1</th>\n",
       "      <td>2022-01-25</td>\n",
       "      <td>176614</td>\n",
       "      <td>11887</td>\n",
       "      <td>46923</td>\n",
       "      <td>117804</td>\n",
       "      <td>3673</td>\n",
       "      <td>4334.0</td>\n",
       "      <td>16841</td>\n",
       "      <td>111632.2970</td>\n",
       "      <td>45134.80620</td>\n",
       "      <td>12648</td>\n",
       "      <td>420.25</td>\n",
       "    </tr>\n",
       "    <tr>\n",
       "      <th>2</th>\n",
       "      <td>2022-01-26</td>\n",
       "      <td>203361</td>\n",
       "      <td>11497</td>\n",
       "      <td>56221</td>\n",
       "      <td>135643</td>\n",
       "      <td>3625</td>\n",
       "      <td>4909.0</td>\n",
       "      <td>19502</td>\n",
       "      <td>121791.5040</td>\n",
       "      <td>50528.56600</td>\n",
       "      <td>13989</td>\n",
       "      <td>471.22</td>\n",
       "    </tr>\n",
       "    <tr>\n",
       "      <th>3</th>\n",
       "      <td>2022-01-27</td>\n",
       "      <td>203347</td>\n",
       "      <td>12255</td>\n",
       "      <td>56289</td>\n",
       "      <td>134803</td>\n",
       "      <td>3838</td>\n",
       "      <td>5123.0</td>\n",
       "      <td>20580</td>\n",
       "      <td>118642.9270</td>\n",
       "      <td>49661.29910</td>\n",
       "      <td>14995</td>\n",
       "      <td>474.43</td>\n",
       "    </tr>\n",
       "    <tr>\n",
       "      <th>4</th>\n",
       "      <td>2022-01-28</td>\n",
       "      <td>179308</td>\n",
       "      <td>10942</td>\n",
       "      <td>46063</td>\n",
       "      <td>122303</td>\n",
       "      <td>3538</td>\n",
       "      <td>4589.0</td>\n",
       "      <td>18153</td>\n",
       "      <td>108016.8810</td>\n",
       "      <td>46718.24470</td>\n",
       "      <td>13271</td>\n",
       "      <td>453.88</td>\n",
       "    </tr>\n",
       "    <tr>\n",
       "      <th>...</th>\n",
       "      <td>...</td>\n",
       "      <td>...</td>\n",
       "      <td>...</td>\n",
       "      <td>...</td>\n",
       "      <td>...</td>\n",
       "      <td>...</td>\n",
       "      <td>...</td>\n",
       "      <td>...</td>\n",
       "      <td>...</td>\n",
       "      <td>...</td>\n",
       "      <td>...</td>\n",
       "      <td>...</td>\n",
       "    </tr>\n",
       "    <tr>\n",
       "      <th>78</th>\n",
       "      <td>2022-04-05</td>\n",
       "      <td>234581</td>\n",
       "      <td>9792</td>\n",
       "      <td>60608</td>\n",
       "      <td>164181</td>\n",
       "      <td>2694</td>\n",
       "      <td>4672.0</td>\n",
       "      <td>21299</td>\n",
       "      <td>149680.8120</td>\n",
       "      <td>78667.36302</td>\n",
       "      <td>16288</td>\n",
       "      <td>726.72</td>\n",
       "    </tr>\n",
       "    <tr>\n",
       "      <th>79</th>\n",
       "      <td>2022-04-06</td>\n",
       "      <td>214361</td>\n",
       "      <td>9506</td>\n",
       "      <td>53329</td>\n",
       "      <td>151526</td>\n",
       "      <td>2725</td>\n",
       "      <td>4439.0</td>\n",
       "      <td>19022</td>\n",
       "      <td>144614.7276</td>\n",
       "      <td>73941.19729</td>\n",
       "      <td>14524</td>\n",
       "      <td>666.01</td>\n",
       "    </tr>\n",
       "    <tr>\n",
       "      <th>80</th>\n",
       "      <td>2022-04-07</td>\n",
       "      <td>203549</td>\n",
       "      <td>8919</td>\n",
       "      <td>48316</td>\n",
       "      <td>146314</td>\n",
       "      <td>2447</td>\n",
       "      <td>3725.0</td>\n",
       "      <td>15841</td>\n",
       "      <td>122930.4281</td>\n",
       "      <td>62859.55761</td>\n",
       "      <td>12277</td>\n",
       "      <td>592.47</td>\n",
       "    </tr>\n",
       "    <tr>\n",
       "      <th>81</th>\n",
       "      <td>2022-04-08</td>\n",
       "      <td>183493</td>\n",
       "      <td>8319</td>\n",
       "      <td>42892</td>\n",
       "      <td>132282</td>\n",
       "      <td>2084</td>\n",
       "      <td>3238.0</td>\n",
       "      <td>14101</td>\n",
       "      <td>106830.6758</td>\n",
       "      <td>55166.64621</td>\n",
       "      <td>10659</td>\n",
       "      <td>511.81</td>\n",
       "    </tr>\n",
       "    <tr>\n",
       "      <th>82</th>\n",
       "      <td>2022-04-09</td>\n",
       "      <td>176616</td>\n",
       "      <td>8792</td>\n",
       "      <td>41474</td>\n",
       "      <td>126350</td>\n",
       "      <td>2242</td>\n",
       "      <td>3139.0</td>\n",
       "      <td>13047</td>\n",
       "      <td>100535.3620</td>\n",
       "      <td>51814.57834</td>\n",
       "      <td>10215</td>\n",
       "      <td>494.12</td>\n",
       "    </tr>\n",
       "  </tbody>\n",
       "</table>\n",
       "<p>83 rows × 12 columns</p>\n",
       "</div>"
      ],
      "text/plain": [
       "   grass_date  traffic_a1  traffic_a1_new  traffic_a1_existing_new  \\\n",
       "0  2022-01-24      200163           12213                    56254   \n",
       "1  2022-01-25      176614           11887                    46923   \n",
       "2  2022-01-26      203361           11497                    56221   \n",
       "3  2022-01-27      203347           12255                    56289   \n",
       "4  2022-01-28      179308           10942                    46063   \n",
       "..        ...         ...             ...                      ...   \n",
       "78 2022-04-05      234581            9792                    60608   \n",
       "79 2022-04-06      214361            9506                    53329   \n",
       "80 2022-04-07      203549            8919                    48316   \n",
       "81 2022-04-08      183493            8319                    42892   \n",
       "82 2022-04-09      176616            8792                    41474   \n",
       "\n",
       "    traffic_a1_repeat  a1_new_orders  a1_existing_new_orders  \\\n",
       "0              131696           3539                  4645.0   \n",
       "1              117804           3673                  4334.0   \n",
       "2              135643           3625                  4909.0   \n",
       "3              134803           3838                  5123.0   \n",
       "4              122303           3538                  4589.0   \n",
       "..                ...            ...                     ...   \n",
       "78             164181           2694                  4672.0   \n",
       "79             151526           2725                  4439.0   \n",
       "80             146314           2447                  3725.0   \n",
       "81             132282           2084                  3238.0   \n",
       "82             126350           2242                  3139.0   \n",
       "\n",
       "    a1_repeat_orders      gmv_usd      nmv_usd  net_orders  \\\n",
       "0              19090  115676.6260  51027.01320       14147   \n",
       "1              16841  111632.2970  45134.80620       12648   \n",
       "2              19502  121791.5040  50528.56600       13989   \n",
       "3              20580  118642.9270  49661.29910       14995   \n",
       "4              18153  108016.8810  46718.24470       13271   \n",
       "..               ...          ...          ...         ...   \n",
       "78             21299  149680.8120  78667.36302       16288   \n",
       "79             19022  144614.7276  73941.19729       14524   \n",
       "80             15841  122930.4281  62859.55761       12277   \n",
       "81             14101  106830.6758  55166.64621       10659   \n",
       "82             13047  100535.3620  51814.57834       10215   \n",
       "\n",
       "    net_shopee_coin_rebate_usd  \n",
       "0                       442.08  \n",
       "1                       420.25  \n",
       "2                       471.22  \n",
       "3                       474.43  \n",
       "4                       453.88  \n",
       "..                         ...  \n",
       "78                      726.72  \n",
       "79                      666.01  \n",
       "80                      592.47  \n",
       "81                      511.81  \n",
       "82                      494.12  \n",
       "\n",
       "[83 rows x 12 columns]"
      ]
     },
     "execution_count": 9,
     "metadata": {},
     "output_type": "execute_result"
    }
   ],
   "source": [
    "Filtered_Data"
   ]
  },
  {
   "cell_type": "code",
   "execution_count": 10,
   "id": "f1833815",
   "metadata": {},
   "outputs": [],
   "source": [
    "x = Filtered_Data[['traffic_a1',\n",
    "                'traffic_a1_new',\n",
    "                'traffic_a1_existing_new',\n",
    "                'traffic_a1_repeat',\n",
    "                'a1_new_orders',\n",
    "                'a1_existing_new_orders',\n",
    "                'a1_repeat_orders',\n",
    "                'gmv_usd',\n",
    "                'nmv_usd',\n",
    "                'net_orders']]\n",
    "y = Filtered_Data[['net_shopee_coin_rebate_usd']]"
   ]
  },
  {
   "cell_type": "code",
   "execution_count": 13,
   "id": "ae2ac92f",
   "metadata": {},
   "outputs": [],
   "source": [
    "x_train,x_test,y_train,y_test=model_selection.train_test_split(x,y,random_state=random.randint(1,99999))"
   ]
  },
  {
   "cell_type": "code",
   "execution_count": 15,
   "id": "9bb92211",
   "metadata": {},
   "outputs": [
    {
     "data": {
      "text/plain": [
       "LinearRegression()"
      ]
     },
     "execution_count": 15,
     "metadata": {},
     "output_type": "execute_result"
    }
   ],
   "source": [
    "LR = linear_model.LinearRegression()\n",
    "LR.fit(x_train, y_train)"
   ]
  },
  {
   "cell_type": "code",
   "execution_count": 16,
   "id": "6060c82f",
   "metadata": {},
   "outputs": [
    {
     "name": "stdout",
     "output_type": "stream",
     "text": [
      "[[ 0.00130743 -0.00899312  0.01704702 -0.00674647  0.03912258  0.00756794\n",
      "  -0.05030292 -0.00104679  0.01365529  0.0571915 ]]\n"
     ]
    }
   ],
   "source": [
    "print(LR.coef_)"
   ]
  },
  {
   "cell_type": "code",
   "execution_count": 17,
   "id": "372d2fe7",
   "metadata": {},
   "outputs": [],
   "source": [
    "y_predict = LR.predict(x_test)"
   ]
  },
  {
   "cell_type": "code",
   "execution_count": 19,
   "id": "ae417c2e",
   "metadata": {},
   "outputs": [
    {
     "name": "stdout",
     "output_type": "stream",
     "text": [
      "MSE: 38806.34170203962\n",
      "0.6011007277642084\n",
      "0.6011007277642084\n",
      "[[ 0.00130743 -0.00899312  0.01704702 -0.00674647  0.03912258  0.00756794\n",
      "  -0.05030292 -0.00104679  0.01365529  0.0571915 ]]\n",
      "[[6 1 3 7 0 5 8 2 4 9]]\n",
      "[['a1_existing_new_orders' 'traffic_a1' 'traffic_a1_existing_new'\n",
      "  'a1_repeat_orders' 'grass_date' 'a1_new_orders' 'gmv_usd'\n",
      "  'traffic_a1_new' 'traffic_a1_repeat' 'nmv_usd']]\n"
     ]
    },
    {
     "name": "stderr",
     "output_type": "stream",
     "text": [
      "C:\\Users\\jiyong.cheng\\AppData\\Local\\Temp\\ipykernel_4808\\3505960802.py:14: FutureWarning: Support for multi-dimensional indexing (e.g. `obj[:, None]`) is deprecated and will be removed in a future version.  Convert to a numpy array before indexing instead.\n",
      "  print(Filtered_Data.columns[np.argsort(LR.coef_)])\n"
     ]
    }
   ],
   "source": [
    "print(\"MSE: \" + str(mean_squared_error(y_test,y_predict)))\n",
    "\n",
    "#print(metrics.mean_absolute_error(y_test,y_predict))\n",
    "print(r2_score(y_test,y_predict))\n",
    "print(LR.score(x_test,y_test))\n",
    "\n",
    "#输出多元回归算法的各个特征的系数矩阵\n",
    "print(LR.coef_)               \n",
    "\n",
    "#输出多元线性回归算法各个特征的系数排序，可以知道各个特征的影响度\n",
    "print(np.argsort(LR.coef_))  \n",
    "\n",
    "#输出各个特征按照影响系数从小到大的顺序\n",
    "print(Filtered_Data.columns[np.argsort(LR.coef_)])  "
   ]
  },
  {
   "cell_type": "code",
   "execution_count": null,
   "id": "16e73d8f",
   "metadata": {},
   "outputs": [],
   "source": [
    "#Using Pearson Correlation\n",
    "Pure_Value_Raw = Raw_Final[[ 'traffic_a1',\n",
    "                'traffic_a1_new',\n",
    "                'traffic_a1_existing_new',\n",
    "                'traffic_a1_repeat',\n",
    "                'a1_new_orders',\n",
    "                'a1_existing_new_orders',\n",
    "                'a1_repeat_orders',\n",
    "                'gmv_usd',\n",
    "                'nmv_usd',\n",
    "                'net_orders',\n",
    "                'net_shopee_coin_rebate_usd']]\n",
    "\n",
    "plt.figure(figsize=(12,10))\n",
    "cor = Pure_Value_Raw.corr()\n",
    "sns.heatmap(cor, annot=True, cmap=plt.cm.Reds)\n",
    "plt.show()"
   ]
  },
  {
   "cell_type": "code",
   "execution_count": null,
   "id": "ec308f47",
   "metadata": {},
   "outputs": [],
   "source": [
    "from sklearn.decomposition import PCA\n",
    "from sklearn.preprocessing import StandardScaler"
   ]
  },
  {
   "cell_type": "code",
   "execution_count": null,
   "id": "69e38bb8",
   "metadata": {},
   "outputs": [],
   "source": [
    "variables = [ 'traffic_a1',\n",
    "                'traffic_a1_new',\n",
    "                'traffic_a1_existing_new',\n",
    "                'traffic_a1_repeat',\n",
    "                'a1_new_orders',\n",
    "                'a1_existing_new_orders',\n",
    "                'a1_repeat_orders',\n",
    "                'gmv_usd',\n",
    "                'nmv_usd',\n",
    "                'net_orders']\n",
    "x = x.values\n",
    "y = y.values"
   ]
  },
  {
   "cell_type": "code",
   "execution_count": null,
   "id": "6e301ab0",
   "metadata": {},
   "outputs": [],
   "source": [
    "x_train_standard = StandardScaler().fit_transform(x)"
   ]
  },
  {
   "cell_type": "code",
   "execution_count": null,
   "id": "1c1cc1c2",
   "metadata": {},
   "outputs": [],
   "source": [
    "x = pd.DataFrame(x_train_standard)"
   ]
  },
  {
   "cell_type": "code",
   "execution_count": null,
   "id": "7bdaf87e",
   "metadata": {},
   "outputs": [],
   "source": [
    "pca = PCA()\n",
    "x_pca = pca.fit_transform(x)\n",
    "x_pca = pd.DataFrame(x_pca)\n",
    "x_pca.head()"
   ]
  },
  {
   "cell_type": "code",
   "execution_count": null,
   "id": "b6079b15",
   "metadata": {},
   "outputs": [],
   "source": [
    "explained_variance = pca.explained_variance_ratio_\n",
    "explained_variance"
   ]
  },
  {
   "cell_type": "code",
   "execution_count": null,
   "id": "d4858a1e",
   "metadata": {},
   "outputs": [],
   "source": [
    "x_pca['net_shopee_coin_rebate_usd']=y"
   ]
  },
  {
   "cell_type": "code",
   "execution_count": null,
   "id": "cfefc5ad",
   "metadata": {},
   "outputs": [],
   "source": [
    "x_pca.columns = ['traffic_a1',\n",
    "                'traffic_a1_new',\n",
    "                'traffic_a1_existing_new',\n",
    "                'traffic_a1_repeat',\n",
    "                'a1_new_orders',\n",
    "                'a1_existing_new_orders',\n",
    "                'a1_repeat_orders',\n",
    "                'gmv_usd',\n",
    "                'nmv_usd',\n",
    "                'net_orders','net_shopee_coin_rebate_usd']"
   ]
  },
  {
   "cell_type": "code",
   "execution_count": null,
   "id": "ecff3697",
   "metadata": {},
   "outputs": [],
   "source": [
    "x_pca.head()"
   ]
  },
  {
   "cell_type": "code",
   "execution_count": null,
   "id": "72a79e8d",
   "metadata": {},
   "outputs": [],
   "source": [
    "x1 = x_pca[['traffic_a1','traffic_a1_new','traffic_a1_existing_new','traffic_a1_repeat','a1_new_orders','a1_existing_new_orders','a1_repeat_orders','gmv_usd','nmv_usd','net_orders']]\n",
    "y1 = x_pca[['net_shopee_coin_rebate_usd']]\n",
    "\n",
    "list1=[]\n",
    "i=1\n",
    "while i<10000:\n",
    "    x_train,x_test,y_train,y_test=model_selection.train_test_split(x1,y1,random_state=i)\n",
    "    LR = linear_model.LinearRegression()\n",
    "    LR.fit(x_train, y_train)\n",
    "    y_predict = LR.predict(x_test)\n",
    "    a = x_pca.columns[np.argmax(LR.coef_)]\n",
    "    list1.append(a)\n",
    "    i=i+1 \n",
    "    \n",
    "dict = {}\n",
    "for key in list1:\n",
    "    dict[key] = dict.get(key, 0) + 1\n",
    "print(dict)    "
   ]
  },
  {
   "cell_type": "code",
   "execution_count": null,
   "id": "9d324bc1",
   "metadata": {},
   "outputs": [],
   "source": [
    "print(\"MSE: \" + str(mean_squared_error(y_test,y_predict)))\n",
    "\n",
    "#print(metrics.mean_absolute_error(y_test,y_predict))\n",
    "#print(r2_score(y_test,y_predict))\n",
    "#print(LR.score(x_test,y_test))\n",
    "\n",
    "#输出多元回归算法的各个特征的系数矩阵\n",
    "#print(LR.coef_)               \n",
    "\n",
    "#输出多元线性回归算法各个特征的系数排序，可以知道各个特征的影响度\n",
    "#print(np.argsort(LR.coef_))  \n",
    "\n",
    "#输出各个特征按照影响系数从小到大的顺序\n",
    "a = x_pca.columns[np.argmax(LR.coef_)]"
   ]
  },
  {
   "cell_type": "code",
   "execution_count": null,
   "id": "be77c993",
   "metadata": {},
   "outputs": [],
   "source": [
    "print(a)"
   ]
  },
  {
   "cell_type": "code",
   "execution_count": null,
   "id": "fa48683f",
   "metadata": {},
   "outputs": [],
   "source": [
    "x = Raw_Final[[ 'traffic_a1',\n",
    "                'nmv_usd']]\n",
    "y = Raw_Final[['net_shopee_coin_rebate_usd']]"
   ]
  },
  {
   "cell_type": "code",
   "execution_count": null,
   "id": "4b62e8b1",
   "metadata": {},
   "outputs": [],
   "source": [
    "x_train,x_test,y_train,y_test=model_selection.train_test_split(x,y,random_state=10000)"
   ]
  },
  {
   "cell_type": "code",
   "execution_count": null,
   "id": "726f6b16",
   "metadata": {},
   "outputs": [],
   "source": [
    "import IPython\n",
    "IPython.display.clear_output(wait=True)\n",
    "\n",
    "from mpl_toolkits.mplot3d import Axes3D\n",
    "import matplotlib.pyplot as plt\n",
    "\n",
    "import ipympl\n",
    "\n",
    "%matplotlib widget"
   ]
  },
  {
   "cell_type": "code",
   "execution_count": null,
   "id": "ccd8e5d8",
   "metadata": {},
   "outputs": [],
   "source": [
    "LR = linear_model.LinearRegression()\n",
    "LR.fit(x_train, y_train)\n",
    "y_predict = LR.predict(x_test)\n",
    "\n",
    "'''fig = plt.figure(1,(6,4),dpi = 250)\n",
    "ax = fig.gca(projection='3d')\n",
    "ax.scatter(Raw_Final['traffic_a1'],Raw_Final['nmv_usd'],Raw_Final['net_shopee_coin_rebate_usd'],s=1)'''\n",
    "\n",
    "# creating figure\n",
    "fig = plt.figure()\n",
    "ax = Axes3D(fig)\n",
    "  \n",
    "# creating the plot\n",
    "plot_geeks = ax.scatter(Raw_Final['traffic_a1'], Raw_Final['nmv_usd'], Raw_Final['net_shopee_coin_rebate_usd'], color='green')\n",
    "  \n",
    "# setting title and labels\n",
    "ax.set_title(\"3D plot\")\n",
    "ax.set_xlabel('x-traffic_a1')\n",
    "ax.set_ylabel('y-nmv_usd')\n",
    "ax.set_zlabel('z-net_shopee_coin_rebate_usd')\n",
    "  \n",
    "# displaying the plot\n",
    "plt.show()\n",
    "\n",
    "\n",
    "'''print(\"MSE: \" + str(mean_squared_error(y_test,y_predict)))\n",
    "\n",
    "#print(metrics.mean_absolute_error(y_test,y_predict))\n",
    "print(r2_score(y_test,y_predict))\n",
    "print(LR.score(x_test,y_test))\n",
    "\n",
    "#输出多元回归算法的各个特征的系数矩阵\n",
    "print(LR.coef_)               \n",
    "\n",
    "#输出多元线性回归算法各个特征的系数排序，可以知道各个特征的影响度\n",
    "print(np.argsort(LR.coef_))  \n",
    "\n",
    "#输出各个特征按照影响系数从小到大的顺序\n",
    "print(Raw_Final.columns[np.argsort(LR.coef_)])  '''"
   ]
  },
  {
   "cell_type": "code",
   "execution_count": null,
   "id": "41710f6e",
   "metadata": {},
   "outputs": [],
   "source": [
    "LR.coef_"
   ]
  },
  {
   "cell_type": "code",
   "execution_count": null,
   "id": "30dd0ed0",
   "metadata": {},
   "outputs": [],
   "source": [
    "y_predict1 = pd.DataFrame(y_predict)\n",
    "b = pd.concat([x_test,y_test],axis = 1)\n",
    "\n",
    "b.reset_index(drop=True, inplace=True)\n",
    "y_predict1.reset_index(drop=True, inplace=True)\n",
    "result = pd.concat([b,y_predict1],axis=1)\n",
    "result = result.rename(columns={0: \"predict_result\"})"
   ]
  },
  {
   "cell_type": "code",
   "execution_count": null,
   "id": "afdacf21",
   "metadata": {},
   "outputs": [],
   "source": [
    "result"
   ]
  },
  {
   "cell_type": "markdown",
   "id": "6fc5702e",
   "metadata": {},
   "source": [
    "TO PREDICT FUTURE COIN REBATE"
   ]
  },
  {
   "cell_type": "code",
   "execution_count": null,
   "id": "6e14be28",
   "metadata": {},
   "outputs": [],
   "source": [
    "test_data = pd.read_csv('LR_Test.csv')"
   ]
  },
  {
   "cell_type": "code",
   "execution_count": null,
   "id": "0d0ddcbb",
   "metadata": {},
   "outputs": [],
   "source": [
    "#test_data['traffic_a1'] = test_data['a1_new'] + test_data['a1_existing_new'] + test_data['a1_repeat']"
   ]
  },
  {
   "cell_type": "code",
   "execution_count": null,
   "id": "542b1a44",
   "metadata": {},
   "outputs": [],
   "source": [
    "act_actual = test_data[['grass_date','traffic_a1','nmv_usd','net_shopee_coin_rebate_usd']]"
   ]
  },
  {
   "cell_type": "code",
   "execution_count": null,
   "id": "118ae0e1",
   "metadata": {},
   "outputs": [],
   "source": [
    "act_actual1 = ps.sqldf(\"SELECT grass_date, sum(traffic_a1) as 'traffic_a1', sum(nmv_usd) as 'nmv_usd', sum(net_shopee_coin_rebate_usd) as 'net_shopee_coin_rebate_usd' FROM act_actual GROUP BY grass_date having sum(net_shopee_coin_rebate_usd)>0\")"
   ]
  },
  {
   "cell_type": "code",
   "execution_count": null,
   "id": "5feb61b4",
   "metadata": {},
   "outputs": [],
   "source": [
    "#y_actpredict = LR.predict(act_actual)\n",
    "\n",
    "act_actual1['grass_date'] = pd.to_datetime(act_actual1['grass_date'], format = '%m/%d/%Y')\n",
    "\n",
    "act_actual = act_actual1[act_actual1['grass_date']>'2022-04-17']\n",
    "act_actual = act_actual[act_actual['net_shopee_coin_rebate_usd']>100]"
   ]
  },
  {
   "cell_type": "code",
   "execution_count": null,
   "id": "debee8ae",
   "metadata": {},
   "outputs": [],
   "source": [
    "act_actual"
   ]
  },
  {
   "cell_type": "code",
   "execution_count": null,
   "id": "9b66a20e",
   "metadata": {},
   "outputs": [],
   "source": [
    "actual_predict = LR.predict(act_actual[['traffic_a1','nmv_usd']])"
   ]
  },
  {
   "cell_type": "code",
   "execution_count": null,
   "id": "625163f3",
   "metadata": {},
   "outputs": [],
   "source": [
    "actual_predict"
   ]
  },
  {
   "cell_type": "code",
   "execution_count": null,
   "id": "b3cf9a59",
   "metadata": {},
   "outputs": [],
   "source": [
    "print(\"MSE: \" + str(r2_score(act_actual['net_shopee_coin_rebate_usd'],actual_predict)))"
   ]
  },
  {
   "cell_type": "code",
   "execution_count": null,
   "id": "84f4c47e",
   "metadata": {},
   "outputs": [],
   "source": [
    "act_actual['net_shopee_coin_rebate_usd']"
   ]
  },
  {
   "cell_type": "markdown",
   "id": "c22aa614",
   "metadata": {},
   "source": [
    "FEATURE SELECTION TEST"
   ]
  },
  {
   "cell_type": "code",
   "execution_count": null,
   "id": "aeed16b6",
   "metadata": {},
   "outputs": [],
   "source": [
    "from sklearn.feature_selection import VarianceThreshold\n",
    "\n",
    "test_data1 = test_data['grass_date'] = pd.to_datetime(test_data['grass_date'], format = '%m/%d/%Y')\n"
   ]
  },
  {
   "cell_type": "code",
   "execution_count": null,
   "id": "4c9e4edd",
   "metadata": {},
   "outputs": [],
   "source": [
    "from sklearn.feature_selection import RFE\n",
    "from sklearn.linear_model import LogisticRegression,LinearRegression\n",
    "\n",
    "test_data_data = act_actual1.drop(columns=['grass_date','net_shopee_coin_rebate_usd'])\n",
    "test_data_target = act_actual1[['net_shopee_coin_rebate_usd']]\n",
    "#递归特征消除法，返回特征选择后的数据\n",
    "#参数estimator为基模型\n",
    "#参数n_features_to_select为选择的特征个数\n",
    "c = RFE(estimator=LinearRegression(), n_features_to_select=1).fit_transform(test_data_data,test_data_target)"
   ]
  },
  {
   "cell_type": "code",
   "execution_count": null,
   "id": "a245f3de",
   "metadata": {},
   "outputs": [],
   "source": [
    "import warnings\n",
    "from sklearn.datasets import make_regression\n",
    "from sklearn.feature_selection import RFECV\n",
    "from sklearn import datasets, linear_model\n",
    " \n",
    "# Suppress an annoying but harmless warning\n",
    "warnings.filterwarnings(action=\"ignore\", module=\"scipy\",\n",
    "                        message=\"^internal gelsd\")\n",
    " \n",
    "# Generate features matrix, target vector, and the true coefficients\n",
    "features, target = make_regression(n_samples = 10000,\n",
    "                                   n_features = 100,\n",
    "                                   n_informative = 2,\n",
    "                                   random_state = 1)\n",
    "# Create a linear regression\n",
    "ols = linear_model.LinearRegression()\n",
    " \n",
    "# Recursively eliminate features\n",
    "rfecv = RFECV(estimator=ols, step=1, scoring=\"neg_mean_squared_error\")\n",
    "rfecv.fit(features, target)\n",
    "rfecv.transform(features)\n",
    "Once we have conducted RFE, we can see the number of features we should keep:\n",
    "# Number of best features\n",
    "rfecv.n_features_\n",
    "5\n",
    "We can also see which of those features we should keep:\n",
    "# Which categories are best\n",
    "rfecv.support_\n",
    "We can even view the rankings of the features:\n",
    "# Rank features best (1) to worst\n",
    "rfecv.ranking_"
   ]
  },
  {
   "cell_type": "code",
   "execution_count": null,
   "id": "441ba4c0",
   "metadata": {},
   "outputs": [],
   "source": [
    "features.columns"
   ]
  },
  {
   "cell_type": "code",
   "execution_count": null,
   "id": "0d9ee3b8",
   "metadata": {},
   "outputs": [],
   "source": [
    "raw_data.head(30)"
   ]
  },
  {
   "cell_type": "code",
   "execution_count": null,
   "id": "1ce9fe35",
   "metadata": {},
   "outputs": [],
   "source": [
    "import warnings\n",
    "from sklearn.datasets import make_regression\n",
    "from sklearn.feature_selection import RFECV\n",
    "from sklearn import datasets, linear_model\n",
    "import pandas as pd\n",
    "import numpy as np\n",
    "import matplotlib.pyplot as plt\n",
    "import pandasql as ps\n",
    "from sklearn import datasets, linear_model, model_selection, metrics\n",
    "from sklearn.metrics import mean_squared_error, r2_score\n",
    "import seaborn as sns\n",
    "\n",
    "# Create a linear regression\n",
    "ols = linear_model.LinearRegression()\n",
    "raw_data = pd.read_csv('LinearRegression_Raw.csv')\n",
    "raw_1 = raw_data.drop(columns=['grass_date','first_day_of_month', 'first_day_of_week', 'if_mtd', 'if_wtd']).dropna()\n",
    "features = raw_1.drop(columns=['net_shopee_coin_rebate_usd'])\n",
    "target = raw_1['net_shopee_coin_rebate_usd']\n",
    "# Recursively eliminate features\n",
    "rfecv = RFECV(estimator=linear_model.LinearRegression(), step=2, scoring=\"neg_mean_squared_error\")\n",
    "rfecv.fit(features,target).get_feature_names_out()\n",
    "#rfecv.transform(features)"
   ]
  },
  {
   "cell_type": "code",
   "execution_count": null,
   "id": "4b929a6e",
   "metadata": {},
   "outputs": [],
   "source": [
    "#Once we have conducted RFE, we can see the number of features we should keep:\n",
    "# Number of best features\n",
    "rfecv.n_features_\n"
   ]
  },
  {
   "cell_type": "code",
   "execution_count": null,
   "id": "6fdc0d69",
   "metadata": {},
   "outputs": [],
   "source": [
    "#We can even view the rankings of the features:\n",
    "# Rank features best (1) to worst\n",
    "rfecv.ranking_"
   ]
  },
  {
   "cell_type": "code",
   "execution_count": null,
   "id": "b93926c5",
   "metadata": {},
   "outputs": [],
   "source": [
    "print(selector.get_support(indices=True))  "
   ]
  },
  {
   "cell_type": "code",
   "execution_count": null,
   "id": "b1686ebc",
   "metadata": {},
   "outputs": [],
   "source": [
    "print(selector)"
   ]
  },
  {
   "cell_type": "code",
   "execution_count": null,
   "id": "93c6c126",
   "metadata": {},
   "outputs": [],
   "source": []
  }
 ],
 "metadata": {
  "kernelspec": {
   "display_name": "Python 3",
   "language": "python",
   "name": "python3"
  },
  "language_info": {
   "codemirror_mode": {
    "name": "ipython",
    "version": 3
   },
   "file_extension": ".py",
   "mimetype": "text/x-python",
   "name": "python",
   "nbconvert_exporter": "python",
   "pygments_lexer": "ipython3",
   "version": "3.9.12"
  }
 },
 "nbformat": 4,
 "nbformat_minor": 5
}
